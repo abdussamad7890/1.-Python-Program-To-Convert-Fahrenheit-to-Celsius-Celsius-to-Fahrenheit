{
 "cells": [
  {
   "cell_type": "code",
   "execution_count": 2,
   "metadata": {},
   "outputs": [
    {
     "name": "stdout",
     "output_type": "stream",
     "text": [
      "102.2\n"
     ]
    }
   ],
   "source": [
    "def convert(s):\n",
    "    c = float(s)\n",
    "    f = (c * 9/5) + 32\n",
    "    return f\n",
    "\n",
    "print(convert(39))"
   ]
  },
  {
   "cell_type": "code",
   "execution_count": 3,
   "metadata": {},
   "outputs": [
    {
     "name": "stdout",
     "output_type": "stream",
     "text": [
      "40.0\n"
     ]
    }
   ],
   "source": [
    "def convert(s):\n",
    "    f = float(s)\n",
    "    c = (f - 32) * 5/9\n",
    "    return c\n",
    "\n",
    "print(convert(104))"
   ]
  }
 ],
 "metadata": {
  "interpreter": {
   "hash": "5402cf5fab25efe2e82fbe5ab4fb71428194b7fa1162083f8741b429e5659cc9"
  },
  "kernelspec": {
   "display_name": "Python 3.10.4 ('myenv')",
   "language": "python",
   "name": "python3"
  },
  "language_info": {
   "codemirror_mode": {
    "name": "ipython",
    "version": 3
   },
   "file_extension": ".py",
   "mimetype": "text/x-python",
   "name": "python",
   "nbconvert_exporter": "python",
   "pygments_lexer": "ipython3",
   "version": "3.10.4"
  },
  "orig_nbformat": 4
 },
 "nbformat": 4,
 "nbformat_minor": 2
}
